{
 "cells": [
  {
   "cell_type": "code",
   "execution_count": 1,
   "metadata": {},
   "outputs": [
    {
     "name": "stdout",
     "output_type": "stream",
     "text": [
      "this the value\n",
      "risk2\n",
      "variable imported\n"
     ]
    }
   ],
   "source": [
    "import os\n",
    "import json\n",
    "import fuzzy_logic\n",
    "import my_variables"
   ]
  },
  {
   "cell_type": "code",
   "execution_count": 3,
   "metadata": {},
   "outputs": [
    {
     "name": "stdout",
     "output_type": "stream",
     "text": [
      "Processing file: user1.json\n",
      "{'age': 75, 'ecg': 1, 'blood_pressure': 120, 'blood_sugar': 100, 'cholesterol': 120, 'maximum_heart_rate': 200, 'old_peak': 5, 'chest_pain': 4, 'exercise': 1, 'sex': 1, 'patient_history': ['']}\n",
      "1.9937038439689445 risk2\n",
      "Processing file: user10.json\n",
      "{'age': 75, 'ecg': 1, 'blood_pressure': 120, 'blood_sugar': 100, 'cholesterol': 120, 'maximum_heart_rate': 120, 'old_peak': 5, 'chest_pain': 4, 'exercise': 1, 'sex': 1, 'patient_history': ['']}\n",
      "1.9937038439689445 risk2\n",
      "Processing file: user2.json\n",
      "{'age': 25, 'ecg': 1, 'blood_pressure': 120, 'blood_sugar': 100, 'cholesterol': 100, 'maximum_heart_rate': 80, 'old_peak': 1, 'chest_pain': 1, 'exercise': 0, 'sex': 0, 'patient_history': ['']}\n",
      "1.2894741460457273 risk1\n",
      "Processing file: user3.json\n",
      "{'age': 40, 'ecg': 1, 'blood_pressure': 120, 'blood_sugar': 100, 'cholesterol': 120, 'maximum_heart_rate': 200, 'old_peak': 5, 'chest_pain': 4, 'exercise': 1, 'sex': 1, 'patient_history': ['']}\n",
      "1.9937038439689445 risk2\n",
      "Processing file: user4.json\n",
      "{'age': 75, 'ecg': 1, 'blood_pressure': 120, 'blood_sugar': 100, 'cholesterol': 120, 'maximum_heart_rate': 200, 'old_peak': 5, 'chest_pain': 4, 'exercise': 1, 'sex': 0, 'patient_history': ['']}\n",
      "1.9937038439689445 risk2\n",
      "Processing file: user5.json\n",
      "{'age': 75, 'ecg': 2, 'blood_pressure': 120, 'blood_sugar': 100, 'cholesterol': 120, 'maximum_heart_rate': 200, 'old_peak': 5, 'chest_pain': 4, 'exercise': 1, 'sex': 1, 'patient_history': ['']}\n",
      "1.9937038439689445 risk2\n",
      "Processing file: user6.json\n",
      "{'age': 75, 'ecg': 1, 'blood_pressure': 120, 'blood_sugar': 100, 'cholesterol': 120, 'maximum_heart_rate': 200, 'old_peak': 5, 'chest_pain': 4, 'exercise': 0, 'sex': 1, 'patient_history': ['']}\n",
      "1.9937038439689445 risk2\n",
      "Processing file: user7.json\n",
      "{'age': 25, 'ecg': 1, 'blood_pressure': 120, 'blood_sugar': 100, 'cholesterol': 120, 'maximum_heart_rate': 200, 'old_peak': 5, 'chest_pain': 4, 'exercise': 1, 'sex': 0, 'patient_history': ['']}\n",
      "1.9937038439689445 risk2\n",
      "Processing file: user8.json\n",
      "{'age': 75, 'ecg': 1, 'blood_pressure': 120, 'blood_sugar': 100, 'cholesterol': 120, 'maximum_heart_rate': 200, 'old_peak': 1, 'chest_pain': 4, 'exercise': 1, 'sex': 1, 'patient_history': ['']}\n",
      "1.9937038439689445 risk2\n",
      "Processing file: user9.json\n",
      "{'age': 50, 'ecg': 1, 'blood_pressure': 120, 'blood_sugar': 100, 'cholesterol': 120, 'maximum_heart_rate': 200, 'old_peak': 5, 'chest_pain': 4, 'exercise': 1, 'sex': 1, 'patient_history': ['']}\n",
      "1.9937038439689445 risk2\n"
     ]
    }
   ],
   "source": [
    "sim = fuzzy_logic.sim\n",
    "get_health_risk = fuzzy_logic.get_health_risk\n",
    "\n",
    "\n",
    "directory_path = my_variables.PATH_TO_USERS_DIR\n",
    "\n",
    "for filename in os.listdir(directory_path):\n",
    "    if filename.endswith(('.json')):\n",
    "        # Process the file (e.g., read, write, analyze, etc.)\n",
    "        print(f\"Processing file: {filename}\")\n",
    "        with open(directory_path+filename, 'r') as file:\n",
    "            data = json.load(file)\n",
    "\n",
    "            print(data)\n",
    "\n",
    "            sim.input['age'] = data[\"age\"]\n",
    "            sim.input['ecg'] = data[\"ecg\"]\n",
    "            sim.input['blood_pressure'] = data['blood_pressure']\n",
    "            sim.input['blood_sugar'] = data['blood_sugar']\n",
    "            sim.input['cholesterol'] = data[\"cholesterol\"]\n",
    "            sim.input['maximum_heart_rate'] = data[\"maximum_heart_rate\"]\n",
    "            sim.input['old_peak'] = data[\"old_peak\"]\n",
    "            sim.input['chest_pain'] = data[\"chest_pain\"]\n",
    "            sim.input['exercise'] = data[\"exercise\"]\n",
    "            sim.input['sex'] = data[\"sex\"]\n",
    "\n",
    "            sim.compute()\n",
    "\n",
    "            val = sim.output['health']\n",
    "\n",
    "            print(val, get_health_risk(val))\n",
    "\n",
    "\n",
    "file.close()"
   ]
  }
 ],
 "metadata": {
  "kernelspec": {
   "display_name": "Python 3",
   "language": "python",
   "name": "python3"
  },
  "language_info": {
   "codemirror_mode": {
    "name": "ipython",
    "version": 3
   },
   "file_extension": ".py",
   "mimetype": "text/x-python",
   "name": "python",
   "nbconvert_exporter": "python",
   "pygments_lexer": "ipython3",
   "version": "3.11.2"
  }
 },
 "nbformat": 4,
 "nbformat_minor": 2
}
